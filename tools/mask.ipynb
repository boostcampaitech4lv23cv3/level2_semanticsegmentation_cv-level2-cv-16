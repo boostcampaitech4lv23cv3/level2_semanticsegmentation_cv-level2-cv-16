{
 "cells": [
  {
   "cell_type": "code",
   "execution_count": 1,
   "metadata": {},
   "outputs": [],
   "source": [
    "import cv2\n",
    "import pandas as pd\n",
    "import numpy as np\n",
    "from matplotlib import pyplot, colors, gridspec\n",
    "from ipywidgets import interact\n",
    "\n",
    "import os\n",
    "from os import path as osp"
   ]
  },
  {
   "cell_type": "code",
   "execution_count": 49,
   "metadata": {},
   "outputs": [],
   "source": [
    "img_dir ='../../data/dataV0/'\n",
    "data_root = '../../submission/mask2former_swin'\n",
    "file_name = [f'fold-{i}' for i in range(4)]\n",
    "#file_name.append('hard_voted_output')\n",
    "len_file = len(file_name)\n",
    "\n",
    "file = [pd.read_csv(osp.join(data_root, file_name[i] + '.csv')) for i in range(len_file)]\n",
    "classes = [\n",
    "    \"Background\",\n",
    "    \"General trash\",\n",
    "    \"Paper\",\n",
    "    \"Paper pack\",\n",
    "    \"Metal\",\n",
    "    \"Glass\",\n",
    "    \"Plastic\",\n",
    "    \"Styrofoam\",\n",
    "    \"Plastic bag\",\n",
    "    \"Battery\",\n",
    "    \"Clothing\",\n",
    "]\n",
    "\n",
    "PALLETE = [[  0,   0,   0], [128,   0,   0], [  0, 128,   0], [128, 128,   0],\n",
    "           [  0,   0, 128], [128,   0, 128], [  0, 128, 128], [128, 128, 128],\n",
    "           [ 64,   0,   0], [192,   0,   0],[ 64, 128,   0]]\n"
   ]
  },
  {
   "cell_type": "code",
   "execution_count": 58,
   "metadata": {},
   "outputs": [
    {
     "data": {
      "application/vnd.jupyter.widget-view+json": {
       "model_id": "0d5d7abdd99d42ddb88fdb4ba4b63609",
       "version_major": 2,
       "version_minor": 0
      },
      "text/plain": [
       "interactive(children=(Dropdown(description='i', options=(0, 1, 2, 3, 4, 5, 6, 7, 8, 9, 10, 11, 12, 13, 14, 15,…"
      ]
     },
     "metadata": {},
     "output_type": "display_data"
    },
    {
     "data": {
      "text/plain": [
       "<function __main__.show_img(i)>"
      ]
     },
     "execution_count": 58,
     "metadata": {},
     "output_type": "execute_result"
    }
   ],
   "source": [
    "\n",
    "def get_pred(kfold,i):\n",
    "    row = file[kfold].iloc[i]\n",
    "    img_id = row['image_id']\n",
    "    \n",
    "    \n",
    "    pred = row['PredictionString']\n",
    "    pred = np.array(pred.split(' '))\n",
    "    pred = np.array(list(map(lambda x: PALLETE[int(x)], pred)))\n",
    "    pred = pred.reshape((256,256,3))\n",
    "    \n",
    "    return pred\n",
    "\n",
    "def show_img(i):\n",
    "    row = file[0].iloc[i]\n",
    "    preds = [get_pred(k, i) for k in range(len_file)]\n",
    "    \n",
    "    img_id = row['image_id']\n",
    "    img = cv2.imread(osp.join(img_dir, img_id))\n",
    "    img = cv2.cvtColor(img, cv2.COLOR_BGR2RGB)\n",
    "    img = cv2.resize(img, [256, 256])\n",
    "    \n",
    "\n",
    "    fig = pyplot.figure(figsize=(20,10))\n",
    "    gs_img = fig.add_gridspec(nrows=1, ncols = 1, left = 0, right = 0.4, top = 1, bottom=0.7)\n",
    "    gs_color = fig.add_gridspec(nrows=1, ncols = 1, left = 0.4, right = 1, top = 1, bottom=0.7)\n",
    "    gs_pred = fig.add_gridspec(nrows=2, ncols = len_file, left = 0, right = 1,top = 0.6, bottom=0)\n",
    "    \n",
    "    pyplot.subplot(gs_img[0,0])\n",
    "    pyplot.title(img_id)\n",
    "    pyplot.axis('off')\n",
    "    pyplot.imshow(img)\n",
    "    \n",
    "    pyplot.subplot(gs_color[0,0])\n",
    "    pyplot.barh(classes, [1 for _ in range(11)], color = [colors.to_hex([v /256 for v in color]) for color in PALLETE])\n",
    "    pyplot.gca().axes.xaxis.set_visible(False)\n",
    "    ax = pyplot.gca()\n",
    "    for tick in ax.yaxis.get_major_ticks():\n",
    "        tick.label.set_fontsize(20)\n",
    "    #pyplot.show()\n",
    "    \n",
    "    #print just pred\n",
    "    for file_num in range(len_file):\n",
    "        pyplot.subplot(gs_pred[0,file_num])\n",
    "        pyplot.axis('off')\n",
    "        pyplot.title(file_name[file_num])\n",
    "        pyplot.imshow(preds[file_num])\n",
    "\n",
    "        pyplot.subplot(gs_pred[1,file_num])\n",
    "        pyplot.axis('off')\n",
    "        pyplot.title(file_name[file_num] + 'Mix')\n",
    "        pyplot.imshow(img)\n",
    "        pyplot.imshow(preds[file_num], alpha=0.5)\n",
    "\n",
    "interact(show_img, i=range(100))"
   ]
  },
  {
   "cell_type": "code",
   "execution_count": null,
   "metadata": {},
   "outputs": [],
   "source": []
  },
  {
   "cell_type": "code",
   "execution_count": null,
   "metadata": {},
   "outputs": [],
   "source": []
  },
  {
   "cell_type": "code",
   "execution_count": null,
   "metadata": {},
   "outputs": [],
   "source": []
  }
 ],
 "metadata": {
  "kernelspec": {
   "display_name": "Python 3.8.12 ('base')",
   "language": "python",
   "name": "python3"
  },
  "language_info": {
   "codemirror_mode": {
    "name": "ipython",
    "version": 3
   },
   "file_extension": ".py",
   "mimetype": "text/x-python",
   "name": "python",
   "nbconvert_exporter": "python",
   "pygments_lexer": "ipython3",
   "version": "3.8.12"
  },
  "orig_nbformat": 4,
  "vscode": {
   "interpreter": {
    "hash": "d4d1e4263499bec80672ea0156c357c1ee493ec2b1c70f0acce89fc37c4a6abe"
   }
  }
 },
 "nbformat": 4,
 "nbformat_minor": 2
}

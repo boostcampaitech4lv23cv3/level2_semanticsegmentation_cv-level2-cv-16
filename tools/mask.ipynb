{
 "cells": [
  {
   "cell_type": "code",
   "execution_count": 53,
   "metadata": {},
   "outputs": [],
   "source": [
    "import os\n",
    "import cv2\n",
    "import pandas as pd\n",
    "import numpy as np\n",
    "from matplotlib import pyplot\n",
    "from ipywidgets import interact\n",
    "from PIL import Image"
   ]
  },
  {
   "cell_type": "code",
   "execution_count": null,
   "metadata": {},
   "outputs": [],
   "source": [
    "os.getcwd()"
   ]
  },
  {
   "cell_type": "code",
   "execution_count": 24,
   "metadata": {},
   "outputs": [],
   "source": [
    "root = '/opt/ml/input'\n",
    "dataset_path = \"data\"\n",
    "file = pd.read_csv('../../submission/make_pseudo_anns(512)_SeMask-FAPN_trash_dataV1_WarmupPolyLR_1e-5-model_best_31199iter_fold-0.csv')"
   ]
  },
  {
   "cell_type": "code",
   "execution_count": null,
   "metadata": {},
   "outputs": [],
   "source": [
    "for i in range(10):\n",
    "    row = file.iloc[i]\n",
    "    # print(row)\n"
   ]
  },
  {
   "cell_type": "code",
   "execution_count": 21,
   "metadata": {},
   "outputs": [
    {
     "data": {
      "application/vnd.jupyter.widget-view+json": {
       "model_id": "444caecaa0f4426db5d23a26e3a764b2",
       "version_major": 2,
       "version_minor": 0
      },
      "text/plain": [
       "interactive(children=(Dropdown(description='i', options=(0, 1, 2, 3, 4, 5, 6, 7, 8, 9, 10, 11, 12, 13, 14, 15,…"
      ]
     },
     "metadata": {},
     "output_type": "display_data"
    },
    {
     "data": {
      "text/plain": [
       "<function __main__.show_img(i)>"
      ]
     },
     "execution_count": 21,
     "metadata": {},
     "output_type": "execute_result"
    }
   ],
   "source": [
    "PALLETE = [[  0,   0,   0], [128,   0,   0], [  0, 128,   0], [128, 128,   0],\n",
    "           [  0,   0, 128], [128,   0, 128], [  0, 128, 128], [128, 128, 128],\n",
    "           [ 64,   0,   0], [192,   0,   0],[ 64, 128,   0]]\n",
    "\n",
    "def show_img(i):\n",
    "    row = file.iloc[i]\n",
    "    img_id = row['image_id']\n",
    "    \n",
    "    pred = row['PredictionString']\n",
    "    pred = np.array(pred.split(' '))\n",
    "    pred = np.array(list(map(lambda x: PALLETE[int(x)], pred)))\n",
    "    pred = pred.reshape((512,512,3))\n",
    "    print(img_id)\n",
    "    pyplot.imshow(pred)\n",
    "\n",
    "interact(show_img, i=range(100))"
   ]
  },
  {
   "cell_type": "code",
   "execution_count": 80,
   "metadata": {},
   "outputs": [
    {
     "name": "stdout",
     "output_type": "stream",
     "text": [
      "uint8\n",
      "(512, 512)\n"
     ]
    },
    {
     "name": "stderr",
     "output_type": "stream",
     "text": [
      "/tmp/ipykernel_14650/376721362.py:7: DeprecationWarning: ADAPTIVE is deprecated and will be removed in Pillow 10 (2023-07-01). Use Palette.ADAPTIVE instead.\n",
      "  image2 = image.convert(\"RGB\").convert(\"P\", palette=Image.ADAPTIVE)\n"
     ]
    }
   ],
   "source": [
    "pred = file[\"PredictionString\"][0]\n",
    "anns = np.array(pred.split(' '))\n",
    "anns = np.array(list(map(lambda x: PALLETE[int(x)], anns)), dtype=np.uint8)\n",
    "anns = anns.reshape((512, 512, 3))\n",
    "print(anns.dtype)\n",
    "image = Image.fromarray(anns)\n",
    "image2 = image.convert(\"RGB\").convert(\"P\", palette=Image.ADAPTIVE)\n",
    "print(image2.size)\n",
    "image2.save(f'pseudo_0000_2.png')"
   ]
  },
  {
   "cell_type": "code",
   "execution_count": 81,
   "metadata": {},
   "outputs": [
    {
     "name": "stderr",
     "output_type": "stream",
     "text": [
      "/tmp/ipykernel_14650/413414051.py:10: DeprecationWarning: ADAPTIVE is deprecated and will be removed in Pillow 10 (2023-07-01). Use Palette.ADAPTIVE instead.\n",
      "  image2 = image.convert(\"RGB\").convert(\"P\", palette=Image.ADAPTIVE)\n"
     ]
    },
    {
     "name": "stdout",
     "output_type": "stream",
     "text": [
      "uint8\n"
     ]
    }
   ],
   "source": [
    "for index, (image, pred) in enumerate(zip(file[\"image_id\"], file[\"PredictionString\"])):\n",
    "    anns = np.array(pred.split(' '))\n",
    "    anns = np.array(list(map(lambda x: PALLETE[int(x)], anns)), dtype=np.uint8)\n",
    "    anns = anns.reshape((512, 512, 3))\n",
    "    if index == 10:\n",
    "        print(anns.dtype)\n",
    "    if not os.path.exists(os.path.join(root, dataset_path, 'pseudo_annotations_4')):\n",
    "        os.mkdir(os.path.join(root, dataset_path, 'pseudo_annotations_4'))\n",
    "    image = Image.fromarray(anns.astype(np.uint8))\n",
    "    image2 = image.convert(\"RGB\").convert(\"P\", palette=Image.ADAPTIVE)\n",
    "    image2.save(os.path.join(root, dataset_path, 'pseudo_annotations_4', f'pseudo_{index:04}.png'), 'png')\n"
   ]
  },
  {
   "cell_type": "code",
   "execution_count": 66,
   "metadata": {},
   "outputs": [
    {
     "name": "stdout",
     "output_type": "stream",
     "text": [
      "9.1.0\n"
     ]
    }
   ],
   "source": [
    "import PIL\n",
    "print(PIL.__version__)"
   ]
  },
  {
   "cell_type": "code",
   "execution_count": 29,
   "metadata": {},
   "outputs": [],
   "source": [
    "for index, image in enumerate(file[\"image_id\"]):\n",
    "    temp_image = cv2.imread(os.path.join(root, dataset_path, image))\n",
    "    if not os.path.exists(os.path.join(root, dataset_path, 'pseudo_images')):\n",
    "        os.mkdir(os.path.join(root, dataset_path, 'pseudo_images'))\n",
    "    temp_image = temp_image[:,:,::-1]\n",
    "    cv2.imwrite(os.path.join(root, dataset_path, 'pseudo_images', f'pseudo_{index:04}.jpg'), temp_image)\n"
   ]
  },
  {
   "cell_type": "code",
   "execution_count": 41,
   "metadata": {},
   "outputs": [],
   "source": [
    "import shutil\n",
    "if not os.path.exists(os.path.join(root, dataset_path, 'pseudo_images')):\n",
    "    os.mkdir(os.path.join(root, dataset_path, 'pseudo_images'))\n",
    "        \n",
    "for index, image in enumerate(file[\"image_id\"]):\n",
    "    img_origin_path = os.path.join(root, dataset_path, image)\n",
    "    img_output_path = os.path.join(root, dataset_path, 'pseudo_images', f'pseudo_{index:04}.jpg')\n",
    "    shutil.copy(img_origin_path, img_output_path)\n"
   ]
  },
  {
   "cell_type": "code",
   "execution_count": 48,
   "metadata": {},
   "outputs": [
    {
     "name": "stdout",
     "output_type": "stream",
     "text": [
      "torch.Size([512, 512, 3])\n",
      "torch.Size([512, 512, 3])\n"
     ]
    }
   ],
   "source": [
    "import torch\n",
    "\n",
    "img_np = cv2.imread(os.path.join(root, dataset_path, \"pseudo_annotations\", \"pseudo_0000.png\"))\n",
    "img_tensor = torch.from_numpy(img_np)\n",
    "img_tensor2 = torch.Tensor(img_np)\n",
    "print(img_tensor.size())\n",
    "print(img_tensor2.size())"
   ]
  },
  {
   "cell_type": "code",
   "execution_count": 51,
   "metadata": {},
   "outputs": [
    {
     "name": "stdout",
     "output_type": "stream",
     "text": [
      "torch.Size([512, 512, 3])\n",
      "torch.Size([512, 512, 3])\n"
     ]
    }
   ],
   "source": [
    "image_origin = cv2.imread(os.path.join(root, dataset_path, \"pseudo_images\", \"pseudo_0000.jpg\"))\n",
    "img_tensor = torch.from_numpy(img_np)\n",
    "img_tensor2 = torch.Tensor(img_np)\n",
    "print(img_tensor.size())\n",
    "print(img_tensor2.size())"
   ]
  },
  {
   "cell_type": "code",
   "execution_count": 62,
   "metadata": {},
   "outputs": [
    {
     "data": {
      "image/png": "[encoded data removed]",
      "text/plain": [
       "<PIL.PngImagePlugin.PngImageFile image mode=RGB size=512x512>"
      ]
     },
     "metadata": {},
     "output_type": "display_data"
    },
    {
     "name": "stdout",
     "output_type": "stream",
     "text": [
      "torch.Size([512, 512, 3])\n"
     ]
    }
   ],
   "source": [
    "image_rgb = Image.open(os.path.join(root, dataset_path, \"pseudo_annotations_3\", \"pseudo_0000.png\"))\n",
    "image_rgb_array = np.array(image_rgb)\n",
    "\n",
    "image_rgb.show()\n",
    "image_to_tensor = torch.Tensor(image_rgb_array)\n",
    "print(image_to_tensor.shape)"
   ]
  }
 ],
 "metadata": {
  "kernelspec": {
   "display_name": "base",
   "language": "python",
   "name": "python3"
  },
  "language_info": {
   "codemirror_mode": {
    "name": "ipython",
    "version": 3
   },
   "file_extension": ".py",
   "mimetype": "text/x-python",
   "name": "python",
   "nbconvert_exporter": "python",
   "pygments_lexer": "ipython3",
   "version": "3.8.5"
  },
  "orig_nbformat": 4,
  "vscode": {
   "interpreter": {
    "hash": "d4d1e4263499bec80672ea0156c357c1ee493ec2b1c70f0acce89fc37c4a6abe"
   }
  }
 },
 "nbformat": 4,
 "nbformat_minor": 2
}

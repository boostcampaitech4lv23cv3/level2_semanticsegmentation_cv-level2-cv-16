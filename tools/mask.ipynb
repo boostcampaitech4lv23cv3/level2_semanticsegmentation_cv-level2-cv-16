{
 "cells": [
  {
   "cell_type": "code",
   "execution_count": 53,
   "metadata": {},
   "outputs": [],
   "source": [
    "import os\n",
    "import cv2\n",
    "import pandas as pd\n",
    "import numpy as np\n",
    "from matplotlib import pyplot\n",
    "from ipywidgets import interact\n",
    "from PIL import Image"
   ]
  },
  {
   "cell_type": "code",
   "execution_count": null,
   "metadata": {},
   "outputs": [],
   "source": [
    "os.getcwd()"
   ]
  },
  {
   "cell_type": "code",
   "execution_count": 24,
   "metadata": {},
   "outputs": [],
   "source": [
    "root = '/opt/ml/input'\n",
    "dataset_path = \"data\"\n",
    "file = pd.read_csv('../../submission/make_pseudo_anns(512)_SeMask-FAPN_trash_dataV1_WarmupPolyLR_1e-5-model_best_31199iter_fold-0.csv')"
   ]
  },
  {
   "cell_type": "code",
   "execution_count": null,
   "metadata": {},
   "outputs": [],
   "source": [
    "for i in range(10):\n",
    "    row = file.iloc[i]\n",
    "    # print(row)\n"
   ]
  },
  {
   "cell_type": "code",
   "execution_count": 21,
   "metadata": {},
   "outputs": [
    {
     "data": {
      "application/vnd.jupyter.widget-view+json": {
       "model_id": "444caecaa0f4426db5d23a26e3a764b2",
       "version_major": 2,
       "version_minor": 0
      },
      "text/plain": [
       "interactive(children=(Dropdown(description='i', options=(0, 1, 2, 3, 4, 5, 6, 7, 8, 9, 10, 11, 12, 13, 14, 15,…"
      ]
     },
     "metadata": {},
     "output_type": "display_data"
    },
    {
     "data": {
      "text/plain": [
       "<function __main__.show_img(i)>"
      ]
     },
     "execution_count": 21,
     "metadata": {},
     "output_type": "execute_result"
    }
   ],
   "source": [
    "PALLETE = [[  0,   0,   0], [128,   0,   0], [  0, 128,   0], [128, 128,   0],\n",
    "           [  0,   0, 128], [128,   0, 128], [  0, 128, 128], [128, 128, 128],\n",
    "           [ 64,   0,   0], [192,   0,   0],[ 64, 128,   0]]\n",
    "\n",
    "def show_img(i):\n",
    "    row = file.iloc[i]\n",
    "    img_id = row['image_id']\n",
    "    \n",
    "    pred = row['PredictionString']\n",
    "    pred = np.array(pred.split(' '))\n",
    "    pred = np.array(list(map(lambda x: PALLETE[int(x)], pred)))\n",
    "    pred = pred.reshape((512,512,3))\n",
    "    print(img_id)\n",
    "    pyplot.imshow(pred)\n",
    "\n",
    "interact(show_img, i=range(100))"
   ]
  },
  {
   "cell_type": "code",
   "execution_count": 70,
   "metadata": {},
   "outputs": [
    {
     "name": "stdout",
     "output_type": "stream",
     "text": [
      "(262144,)\n",
      "(262144, 3)\n",
      "(512, 512, 3)\n",
      "3\n",
      "uint8\n"
     ]
    },
    {
     "data": {
      "text/plain": [
       "<matplotlib.image.AxesImage at 0x7fe5cc9626a0>"
      ]
     },
     "execution_count": 70,
     "metadata": {},
     "output_type": "execute_result"
    },
    {
     "data": {
      "image/png": "[encoded data removed]",
      "text/plain": [
       "<Figure size 640x480 with 1 Axes>"
      ]
     },
     "metadata": {},
     "output_type": "display_data"
    }
   ],
   "source": [
    "pred = file[\"PredictionString\"][0]\n",
    "anns = np.array(pred.split(\" \"))\n",
    "print(anns.shape)\n",
    "anns = np.array(list(map(lambda x: PALLETE[int(x)], anns)), dtype=np.uint8)\n",
    "print(anns.shape)\n",
    "anns = anns.reshape((512, 512, 3))\n",
    "print(anns.shape)\n",
    "print(anns.ndim)\n",
    "\n",
    "image = Image.fromarray(anns.astype(np.uint8), mode=\"P\")\n",
    "image.save(os.path.join(f'pseudo_{0:04}.png'), 'png')\n",
    "print(anns.dtype)\n",
    "pyplot.imshow(anns)"
   ]
  },
  {
   "cell_type": "code",
   "execution_count": 67,
   "metadata": {},
   "outputs": [
    {
     "ename": "ValueError",
     "evalue": "Too many dimensions: 3 > 2.",
     "output_type": "error",
     "traceback": [
      "\u001b[0;31m---------------------------------------------------------------------------\u001b[0m",
      "\u001b[0;31mValueError\u001b[0m                                Traceback (most recent call last)",
      "Cell \u001b[0;32mIn[67], line 9\u001b[0m\n\u001b[1;32m      7\u001b[0m \u001b[39mif\u001b[39;00m \u001b[39mnot\u001b[39;00m os\u001b[39m.\u001b[39mpath\u001b[39m.\u001b[39mexists(os\u001b[39m.\u001b[39mpath\u001b[39m.\u001b[39mjoin(root, dataset_path, \u001b[39m'\u001b[39m\u001b[39mpseudo_annotations_2\u001b[39m\u001b[39m'\u001b[39m)):\n\u001b[1;32m      8\u001b[0m     os\u001b[39m.\u001b[39mmkdir(os\u001b[39m.\u001b[39mpath\u001b[39m.\u001b[39mjoin(root, dataset_path, \u001b[39m'\u001b[39m\u001b[39mpseudo_annotations_2\u001b[39m\u001b[39m'\u001b[39m))\n\u001b[0;32m----> 9\u001b[0m image \u001b[39m=\u001b[39m Image\u001b[39m.\u001b[39;49mfromarray(anns\u001b[39m.\u001b[39;49mastype(np\u001b[39m.\u001b[39;49muint8), mode\u001b[39m=\u001b[39;49m\u001b[39m\"\u001b[39;49m\u001b[39mP\u001b[39;49m\u001b[39m\"\u001b[39;49m)\n\u001b[1;32m     10\u001b[0m image\u001b[39m.\u001b[39msave(os\u001b[39m.\u001b[39mpath\u001b[39m.\u001b[39mjoin(root, dataset_path, \u001b[39m'\u001b[39m\u001b[39mpseudo_annotations_2\u001b[39m\u001b[39m'\u001b[39m, \u001b[39mf\u001b[39m\u001b[39m'\u001b[39m\u001b[39mpseudo_\u001b[39m\u001b[39m{\u001b[39;00mindex\u001b[39m:\u001b[39;00m\u001b[39m04\u001b[39m\u001b[39m}\u001b[39;00m\u001b[39m.png\u001b[39m\u001b[39m'\u001b[39m), \u001b[39m'\u001b[39m\u001b[39mpng\u001b[39m\u001b[39m'\u001b[39m)\n",
      "File \u001b[0;32m/opt/conda/lib/python3.8/site-packages/PIL/Image.py:2940\u001b[0m, in \u001b[0;36mfromarray\u001b[0;34m(obj, mode)\u001b[0m\n\u001b[1;32m   2938\u001b[0m     ndmax \u001b[39m=\u001b[39m \u001b[39m4\u001b[39m\n\u001b[1;32m   2939\u001b[0m \u001b[39mif\u001b[39;00m ndim \u001b[39m>\u001b[39m ndmax:\n\u001b[0;32m-> 2940\u001b[0m     \u001b[39mraise\u001b[39;00m \u001b[39mValueError\u001b[39;00m(\u001b[39mf\u001b[39m\u001b[39m\"\u001b[39m\u001b[39mToo many dimensions: \u001b[39m\u001b[39m{\u001b[39;00mndim\u001b[39m}\u001b[39;00m\u001b[39m > \u001b[39m\u001b[39m{\u001b[39;00mndmax\u001b[39m}\u001b[39;00m\u001b[39m.\u001b[39m\u001b[39m\"\u001b[39m)\n\u001b[1;32m   2942\u001b[0m size \u001b[39m=\u001b[39m \u001b[39m1\u001b[39m \u001b[39mif\u001b[39;00m ndim \u001b[39m==\u001b[39m \u001b[39m1\u001b[39m \u001b[39melse\u001b[39;00m shape[\u001b[39m1\u001b[39m], shape[\u001b[39m0\u001b[39m]\n\u001b[1;32m   2943\u001b[0m \u001b[39mif\u001b[39;00m strides \u001b[39mis\u001b[39;00m \u001b[39mnot\u001b[39;00m \u001b[39mNone\u001b[39;00m:\n",
      "\u001b[0;31mValueError\u001b[0m: Too many dimensions: 3 > 2."
     ]
    }
   ],
   "source": [
    "for index, (image, pred) in enumerate(zip(file[\"image_id\"], file[\"PredictionString\"])):\n",
    "    anns = np.array(pred.split(' '))\n",
    "    anns = np.array(list(map(lambda x: PALLETE[int(x)], anns)), dtype=np.uint8)\n",
    "    anns = anns.reshape((512, 512, 3))\n",
    "    if index == 10:\n",
    "        print(anns.dtype)\n",
    "    if not os.path.exists(os.path.join(root, dataset_path, 'pseudo_annotations_2')):\n",
    "        os.mkdir(os.path.join(root, dataset_path, 'pseudo_annotations_2'))\n",
    "    image = Image.fromarray(anns.astype(np.uint8), mode=\"P\")\n",
    "    image.save(os.path.join(root, dataset_path, 'pseudo_annotations_2', f'pseudo_{index:04}.png'), 'png')\n"
   ]
  },
  {
   "cell_type": "code",
   "execution_count": 66,
   "metadata": {},
   "outputs": [
    {
     "name": "stdout",
     "output_type": "stream",
     "text": [
      "9.1.0\n"
     ]
    }
   ],
   "source": [
    "import PIL\n",
    "print(PIL.__version__)"
   ]
  },
  {
   "cell_type": "code",
   "execution_count": 29,
   "metadata": {},
   "outputs": [],
   "source": [
    "for index, image in enumerate(file[\"image_id\"]):\n",
    "    temp_image = cv2.imread(os.path.join(root, dataset_path, image))\n",
    "    if not os.path.exists(os.path.join(root, dataset_path, 'pseudo_images')):\n",
    "        os.mkdir(os.path.join(root, dataset_path, 'pseudo_images'))\n",
    "    temp_image = temp_image[:,:,::-1]\n",
    "    cv2.imwrite(os.path.join(root, dataset_path, 'pseudo_images', f'pseudo_{index:04}.jpg'), temp_image)\n"
   ]
  },
  {
   "cell_type": "code",
   "execution_count": 41,
   "metadata": {},
   "outputs": [],
   "source": [
    "import shutil\n",
    "if not os.path.exists(os.path.join(root, dataset_path, 'pseudo_images')):\n",
    "    os.mkdir(os.path.join(root, dataset_path, 'pseudo_images'))\n",
    "        \n",
    "for index, image in enumerate(file[\"image_id\"]):\n",
    "    img_origin_path = os.path.join(root, dataset_path, image)\n",
    "    img_output_path = os.path.join(root, dataset_path, 'pseudo_images', f'pseudo_{index:04}.jpg')\n",
    "    shutil.copy(img_origin_path, img_output_path)\n"
   ]
  },
  {
   "cell_type": "code",
   "execution_count": 48,
   "metadata": {},
   "outputs": [
    {
     "name": "stdout",
     "output_type": "stream",
     "text": [
      "torch.Size([512, 512, 3])\n",
      "torch.Size([512, 512, 3])\n"
     ]
    }
   ],
   "source": [
    "import torch\n",
    "\n",
    "img_np = cv2.imread(os.path.join(root, dataset_path, \"pseudo_annotations\", \"pseudo_0000.png\"))\n",
    "img_tensor = torch.from_numpy(img_np)\n",
    "img_tensor2 = torch.Tensor(img_np)\n",
    "print(img_tensor.size())\n",
    "print(img_tensor2.size())"
   ]
  },
  {
   "cell_type": "code",
   "execution_count": 51,
   "metadata": {},
   "outputs": [
    {
     "name": "stdout",
     "output_type": "stream",
     "text": [
      "torch.Size([512, 512, 3])\n",
      "torch.Size([512, 512, 3])\n"
     ]
    }
   ],
   "source": [
    "image_origin = cv2.imread(os.path.join(root, dataset_path, \"pseudo_images\", \"pseudo_0000.jpg\"))\n",
    "img_tensor = torch.from_numpy(img_np)\n",
    "img_tensor2 = torch.Tensor(img_np)\n",
    "print(img_tensor.size())\n",
    "print(img_tensor2.size())"
   ]
  },
  {
   "cell_type": "code",
   "execution_count": 62,
   "metadata": {},
   "outputs": [
    {
     "data": {
      "image/png": "[encoded data removed]",
      "text/plain": [
       "<PIL.PngImagePlugin.PngImageFile image mode=RGB size=512x512>"
      ]
     },
     "metadata": {},
     "output_type": "display_data"
    },
    {
     "name": "stdout",
     "output_type": "stream",
     "text": [
      "torch.Size([512, 512, 3])\n"
     ]
    }
   ],
   "source": [
    "image_rgb = Image.open(os.path.join(root, dataset_path, \"pseudo_annotations_3\", \"pseudo_0000.png\"))\n",
    "image_rgb_array = np.array(image_rgb)\n",
    "\n",
    "image_rgb.show()\n",
    "image_to_tensor = torch.Tensor(image_rgb_array)\n",
    "print(image_to_tensor.shape)"
   ]
  }
 ],
 "metadata": {
  "kernelspec": {
   "display_name": "base",
   "language": "python",
   "name": "python3"
  },
  "language_info": {
   "codemirror_mode": {
    "name": "ipython",
    "version": 3
   },
   "file_extension": ".py",
   "mimetype": "text/x-python",
   "name": "python",
   "nbconvert_exporter": "python",
   "pygments_lexer": "ipython3",
   "version": "3.8.5"
  },
  "orig_nbformat": 4,
  "vscode": {
   "interpreter": {
    "hash": "d4d1e4263499bec80672ea0156c357c1ee493ec2b1c70f0acce89fc37c4a6abe"
   }
  }
 },
 "nbformat": 4,
 "nbformat_minor": 2
}

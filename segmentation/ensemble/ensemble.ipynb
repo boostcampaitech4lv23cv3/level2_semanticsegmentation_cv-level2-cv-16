{
 "cells": [
  {
   "cell_type": "markdown",
   "metadata": {},
   "source": [
    "## hard voting"
   ]
  },
  {
   "cell_type": "code",
   "execution_count": 1,
   "metadata": {},
   "outputs": [],
   "source": [
    "import os\n",
    "from os import path as osp\n",
    "import pandas as pd\n",
    "#import numpy as np\n",
    "from tqdm import tqdm"
   ]
  },
  {
   "cell_type": "code",
   "execution_count": 2,
   "metadata": {},
   "outputs": [],
   "source": [
    "CLASSES = [ \n",
    "    'Background', 'General trash', 'Paper', 'Paper pack', 'Metal', 'Glass',\n",
    "    'Plastic', 'Styrofoam', 'Plastic bag', 'Battery', 'Clothing'\n",
    "]"
   ]
  },
  {
   "cell_type": "code",
   "execution_count": 3,
   "metadata": {},
   "outputs": [],
   "source": [
    "base_dir = ''\n",
    "target1 = 'adapter_v1_7418.csv' # best model\n",
    "target2 = 'adapter_v2_7245.csv'\n",
    "# target3 = 'hornet_v2_7235.csv'\n",
    "target4 = 'semask_v1_7331.csv'\n",
    "\n",
    "df1 = pd.read_csv(osp.join(base_dir, target1))\n",
    "df2 = pd.read_csv(osp.join(base_dir, target2))\n",
    "# df3 = pd.read_csv(osp.join(base_dir, target3))\n",
    "df4 = pd.read_csv(osp.join(base_dir, target4))\n",
    "\n",
    "submission = pd.DataFrame()\n",
    "submission['image_id'] = df1['image_id']"
   ]
  },
  {
   "cell_type": "code",
   "execution_count": 4,
   "metadata": {},
   "outputs": [
    {
     "name": "stderr",
     "output_type": "stream",
     "text": [
      "100%|██████████| 819/819 [09:01<00:00,  1.51it/s]\n"
     ]
    }
   ],
   "source": [
    "PredictionString = []\n",
    "\n",
    "for idx in tqdm(range(len(df1))):\n",
    "    result1 = df1['PredictionString'][idx].split(' ')\n",
    "    result2 = df2['PredictionString'][idx].split(' ')\n",
    "    # result3 = df3['PredictionString'][idx].split(' ')\n",
    "    result4 = df4['PredictionString'][idx].split(' ')\n",
    "    result = ''\n",
    "\n",
    "    for i in range(len(result1)):\n",
    "        pixel_count = {str(i):0 for i in range(11)}\n",
    "        best_pixel = result1[i]\n",
    "        pixel_count[result1[i]] += 1\n",
    "        pixel_count[result2[i]] += 1\n",
    "        # pixel_count[result3[i]] += 1\n",
    "        pixel_count[result4[i]] += 1\n",
    "        \n",
    "        voted_pixel = [key for key, value in pixel_count.items() if value == max(pixel_count.values())]\n",
    "        \n",
    "        # voted_pixel이 2개 이상인 경우\n",
    "        if len(voted_pixel) > 1:\n",
    "            # best_pixel이 뽑은 pixel이 있는 경우\n",
    "            if best_pixel in pixel_count:\n",
    "                result += best_pixel + ' '\n",
    "        # 1개만 뽑힌 경우 (model이 4개 이하일 경우만)\n",
    "        else:\n",
    "            result += voted_pixel[0] + ' '\n",
    "            \n",
    "    ensemble_result = result[:-1]\n",
    "    PredictionString.append(ensemble_result)"
   ]
  },
  {
   "cell_type": "code",
   "execution_count": 5,
   "metadata": {},
   "outputs": [],
   "source": [
    "submission['PredictionString'] = PredictionString\n",
    "submission.to_csv('./hard_voted_output.csv', index=False)"
   ]
  },
  {
   "cell_type": "code",
   "execution_count": null,
   "metadata": {},
   "outputs": [],
   "source": []
  },
  {
   "cell_type": "code",
   "execution_count": null,
   "metadata": {},
   "outputs": [],
   "source": []
  },
  {
   "cell_type": "code",
   "execution_count": null,
   "metadata": {},
   "outputs": [],
   "source": []
  }
 ],
 "metadata": {
  "kernelspec": {
   "display_name": "base",
   "language": "python",
   "name": "python3"
  },
  "language_info": {
   "codemirror_mode": {
    "name": "ipython",
    "version": 3
   },
   "file_extension": ".py",
   "mimetype": "text/x-python",
   "name": "python",
   "nbconvert_exporter": "python",
   "pygments_lexer": "ipython3",
   "version": "3.8.5"
  },
  "orig_nbformat": 4,
  "vscode": {
   "interpreter": {
    "hash": "d4d1e4263499bec80672ea0156c357c1ee493ec2b1c70f0acce89fc37c4a6abe"
   }
  }
 },
 "nbformat": 4,
 "nbformat_minor": 2
}
